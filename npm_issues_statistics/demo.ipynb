{
 "cells": [
  {
   "cell_type": "code",
   "execution_count": 1,
   "metadata": {},
   "outputs": [],
   "source": [
    "import matplotlib\n",
    "from datetime import datetime\n",
    "matplotlib.use('nbagg')\n",
    "from package_issues_history import package_version_timestamps, \\\n",
    "get_issues_timestamps, dependency_issues_timestamps, do_make_plot"
   ]
  },
  {
   "cell_type": "markdown",
   "metadata": {},
   "source": [
    "Let's look at 'colors' package"
   ]
  },
  {
   "cell_type": "code",
   "execution_count": 2,
   "metadata": {},
   "outputs": [],
   "source": [
    "package_name = 'colors'"
   ]
  },
  {
   "cell_type": "markdown",
   "metadata": {},
   "source": [
    "Getting its versions and their creation timestamps on npm"
   ]
  },
  {
   "cell_type": "code",
   "execution_count": 3,
   "metadata": {},
   "outputs": [
    {
     "name": "stdout",
     "output_type": "stream",
     "text": [
      "{'0.3.0': 1300176738.0, '0.5.0': 1300176738.0, '0.5.1': 1316945084.0, '0.6.0': 1323423177.0, '0.6.0-1': 1323426905.0, '0.6.1': 1374806988.0, '0.6.2': 1377116095.0, '1.0.0': 1412152179.0, '1.0.1': 1412168859.0, '1.0.2': 1412268943.0, '1.0.3': 1412838204.0, '1.1.0': 1430280949.0, '1.1.1': 1434534753.0, '1.1.2': 1434535380.0, '1.2.0-rc0': 1518813909.0, '1.2.0': 1520657320.0, '1.2.1': 1520826746.0, '1.2.2': 1525102930.0, '1.2.3': 1525115386.0, '1.2.4': 1525470966.0, '1.2.5': 1526008542.0, '1.3.0': 1526843375.0, '1.3.1': 1532286387.0, '1.3.2': 1534952930.0, '1.3.3': 1544398548.0, '1.4.0': 1569185167.0, '1.4.44-liberty-2': 1641608656.0, '1.4.1': 1641662525.0, '1.4.2': 1641749735.0}\n"
     ]
    }
   ],
   "source": [
    "version_timestamps = package_version_timestamps(package_name)\n",
    "print(version_timestamps)"
   ]
  },
  {
   "cell_type": "markdown",
   "metadata": {},
   "source": [
    "Let's check when issues were created "
   ]
  },
  {
   "cell_type": "code",
   "execution_count": 4,
   "metadata": {},
   "outputs": [],
   "source": [
    "self_issues_timestamps = get_issues_timestamps(package_name)"
   ]
  },
  {
   "cell_type": "markdown",
   "metadata": {},
   "source": [
    "Now let's fetch the timestamps for issues of projects which depend on this package"
   ]
  },
  {
   "cell_type": "code",
   "execution_count": 5,
   "metadata": {},
   "outputs": [
    {
     "data": {
      "application/vnd.jupyter.widget-view+json": {
       "model_id": "5f4390b8e9fa48cb91bd3d22c55c4dbd",
       "version_major": 2,
       "version_minor": 0
      },
      "text/plain": [
       "HBox(children=(FloatProgress(value=0.0, max=83.0), HTML(value='')))"
      ]
     },
     "metadata": {},
     "output_type": "display_data"
    },
    {
     "name": "stdout",
     "output_type": "stream",
     "text": [
      "\n",
      "We got 2159 issues in total for 60 dependent projects\n"
     ]
    }
   ],
   "source": [
    "dep_issues_timestamps = dependency_issues_timestamps(package_name)\n",
    "print(f\"We got {sum(len(issues) for issues in dep_issues_timestamps)} issues in total for {len(dep_issues_timestamps)} dependent projects\")"
   ]
  },
  {
   "cell_type": "markdown",
   "metadata": {},
   "source": [
    "Let's see if issues in the project or dependent projects tend to happen after\n",
    "a new version is released"
   ]
  },
  {
   "cell_type": "code",
   "execution_count": null,
   "metadata": {},
   "outputs": [],
   "source": [
    "start_timestamp = datetime.strptime(\"2019-01-01\", \"%Y-%m-%d\").timestamp()\n",
    "do_make_plot(\n",
    "            version_timestamps,\n",
    "            self_issues_timestamps,\n",
    "            dep_issues_timestamps,\n",
    "            start_timestamp\n",
    ")"
   ]
  },
  {
   "cell_type": "code",
   "execution_count": null,
   "metadata": {},
   "outputs": [],
   "source": []
  }
 ],
 "metadata": {
  "kernelspec": {
   "display_name": "Python 3",
   "language": "python",
   "name": "python3"
  },
  "language_info": {
   "codemirror_mode": {
    "name": "ipython",
    "version": 3
   },
   "file_extension": ".py",
   "mimetype": "text/x-python",
   "name": "python",
   "nbconvert_exporter": "python",
   "pygments_lexer": "ipython3",
   "version": "3.7.5"
  }
 },
 "nbformat": 4,
 "nbformat_minor": 2
}
